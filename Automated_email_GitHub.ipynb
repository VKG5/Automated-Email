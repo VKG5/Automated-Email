{
 "cells": [
  {
   "cell_type": "markdown",
   "metadata": {},
   "source": [
    "## A Program to send emails to everyone in a file"
   ]
  },
  {
   "cell_type": "code",
   "execution_count": null,
   "metadata": {},
   "outputs": [],
   "source": [
    "# For making the normal program work\n",
    "import pandas as pd\n",
    "import smtplib\n",
    "\n",
    "# For attachments\n",
    "from email.mime.multipart import MIMEMultipart \n",
    "from email.mime.text import MIMEText \n",
    "from email.mime.base import MIMEBase \n",
    "from email import encoders \n",
    "\n",
    "# The excel sheet with the emails\n",
    "file = pd.read_excel('***.xlsx',)"
   ]
  },
  {
   "cell_type": "markdown",
   "metadata": {},
   "source": [
    "### Generating the required list"
   ]
  },
  {
   "cell_type": "code",
   "execution_count": null,
   "metadata": {},
   "outputs": [],
   "source": [
    "file.head()\n",
    "email_list = file[\"Column Name\"].values"
   ]
  },
  {
   "cell_type": "code",
   "execution_count": null,
   "metadata": {},
   "outputs": [],
   "source": [
    "# Adding the necessary @gmail, @outlook, suffix.\n",
    "suffix = \"@gmail.com\"\n",
    "\n",
    "final_list = []\n",
    "for f in email_list:\n",
    "    if suffix not in f:\n",
    "        final_list.append(f.strip() + suffix)\n",
    "    else:\n",
    "        final_list.append(f)"
   ]
  },
  {
   "cell_type": "markdown",
   "metadata": {},
   "source": [
    "### Sorting the list"
   ]
  },
  {
   "cell_type": "code",
   "execution_count": null,
   "metadata": {},
   "outputs": [],
   "source": [
    "juniors = []\n",
    "curr = []\n",
    "seniors = []\n",
    "\n",
    "# If you have sub-class emails in the excel sheet, change the number fo conditions as per your convenience\n",
    "for email in final_list:\n",
    "    if '***' in email:\n",
    "        juniors.append(email)\n",
    "    elif '***' in email:\n",
    "        curr.append(email)\n",
    "    else:\n",
    "        seniors.append(email)"
   ]
  },
  {
   "cell_type": "markdown",
   "metadata": {},
   "source": [
    "### Logging in to your account"
   ]
  },
  {
   "cell_type": "code",
   "execution_count": null,
   "metadata": {},
   "outputs": [],
   "source": [
    "# If you want to dens this from some other email service, just look up the equivalent port on google :D\n",
    "server = smtplib.SMTP('smtp.gmail.com', 587)\n",
    "print(\"Done\")\n",
    "server.ehlo()\n",
    "server.starttls()\n",
    "\n",
    "try:\n",
    "    server.login('your_email_address@gamil.com','Enter your password here')\n",
    "    print(\"Login Successful!\")\n",
    "\n",
    "except:\n",
    "    print(\"Wrong Credentials!\")"
   ]
  },
  {
   "cell_type": "markdown",
   "metadata": {},
   "source": [
    "### Generating a message"
   ]
  },
  {
   "cell_type": "markdown",
   "metadata": {},
   "source": [
    "Simple body and subject of the email"
   ]
  },
  {
   "cell_type": "code",
   "execution_count": null,
   "metadata": {},
   "outputs": [],
   "source": [
    "msg = '''The message you want in the email'''\n",
    "\n",
    "subject = 'Subject of the email'\n",
    "\n",
    "body = 'Subject: {}\\n\\n{}'.format(subject,msg)"
   ]
  },
  {
   "cell_type": "markdown",
   "metadata": {},
   "source": [
    "The **attachment** in the email"
   ]
  },
  {
   "cell_type": "code",
   "execution_count": null,
   "metadata": {},
   "outputs": [],
   "source": [
    "msg = MIMEMultipart()\n",
    "\n",
    "msg.attach(MIMEText(body, 'plain'))\n",
    "\n",
    "# Name of the file that is to be attached, opening the file to be attached\n",
    "file_to_be_attached = '***.(extension of the file to be attached)'\n",
    "attachment = open('***.(extension of the file to be attached)', 'rb')\n",
    "\n",
    "p = MIMEBase('application', 'octet-stream') \n",
    "\n",
    "p.set_payload((attachment).read()) \n",
    "\n",
    "encoders.encode_base64(p) \n",
    "\n",
    "p.add_header('Content-Disposition', \"attachment; filename= %s\" %file_to_be_attached)\n",
    "\n",
    "msg.attach(p) "
   ]
  },
  {
   "cell_type": "markdown",
   "metadata": {},
   "source": [
    "### Test ID(s)"
   ]
  },
  {
   "cell_type": "code",
   "execution_count": null,
   "metadata": {},
   "outputs": [],
   "source": [
    "# Test mail\n",
    "email = ['***@gmail.com']\n",
    "\n",
    "# To check number of emails \n",
    "print(len(curr))\n",
    "\n",
    "final_mail = msg.as_string()\n",
    "\n",
    "count=0\n",
    "for e in email:\n",
    "    server.sendmail('your_email_address@gmail.com', e, final_mail)\n",
    "    print(\"Sent\")\n",
    "    count+=1\n",
    "\n",
    "# To check if the count is equal in both\n",
    "print(count)\n",
    "server.quit()"
   ]
  },
  {
   "cell_type": "code",
   "execution_count": null,
   "metadata": {},
   "outputs": [],
   "source": []
  }
 ],
 "metadata": {
  "kernelspec": {
   "display_name": "Python 3",
   "language": "python",
   "name": "python3"
  },
  "language_info": {
   "codemirror_mode": {
    "name": "ipython",
    "version": 3
   },
   "file_extension": ".py",
   "mimetype": "text/x-python",
   "name": "python",
   "nbconvert_exporter": "python",
   "pygments_lexer": "ipython3",
   "version": "3.7.3"
  }
 },
 "nbformat": 4,
 "nbformat_minor": 2
}
